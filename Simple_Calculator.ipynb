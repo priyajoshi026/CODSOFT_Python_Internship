{
 "cells": [
  {
   "cell_type": "code",
   "execution_count": 5,
   "id": "a91e468f-3ad1-4996-8f7b-fce211a6c0ec",
   "metadata": {},
   "outputs": [
    {
     "name": "stdout",
     "output_type": "stream",
     "text": [
      "MENU\n",
      "1. Addition\n",
      "2. Subtraction\n",
      "3. Multiplication\n",
      "4. Division\n"
     ]
    },
    {
     "name": "stdin",
     "output_type": "stream",
     "text": [
      "Enter operation choice 2\n",
      "Enter first number: 4\n",
      "Enter second number: 2\n"
     ]
    },
    {
     "name": "stdout",
     "output_type": "stream",
     "text": [
      "Result:  2\n"
     ]
    }
   ],
   "source": [
    "                                        # TASK-II\n",
    "# Python dont have switch case like other languages so it can be replaced by using dictionary-mapping. Dictionary is a data structure which stores data in key-value pairs\n",
    "# Function definition to calculate result of operation, it will first value check choice(ch) argument in dictionary and print result by calculating corresponding expression to it else it will print message mentioned in .get function  \n",
    "def calculator(a,b,ch):\n",
    "    switch={\n",
    "        1:a+b,\n",
    "        2:a-b,\n",
    "        3:a*b,\n",
    "        4:a/b\n",
    "    }\n",
    "    return switch.get(ch,\"Invalid Choice\")\n",
    "\n",
    "print(\"MENU\")\n",
    "print(\"1. Addition\")\n",
    "print(\"2. Subtraction\")\n",
    "print(\"3. Multiplication\")\n",
    "print(\"4. Division\")\n",
    "ch=int(input(\"Enter operation choice\"))\n",
    "a=int(input(\"Enter first number:\"))\n",
    "b=int(input(\"Enter second number:\"))\n",
    "print(\"Result:\",calculator(a,b,ch))\n",
    "\n"
   ]
  },
  {
   "cell_type": "code",
   "execution_count": null,
   "id": "207ccaec-9552-4b88-be29-54b1e09a53dc",
   "metadata": {},
   "outputs": [],
   "source": []
  }
 ],
 "metadata": {
  "kernelspec": {
   "display_name": "Python 3 (ipykernel)",
   "language": "python",
   "name": "python3"
  },
  "language_info": {
   "codemirror_mode": {
    "name": "ipython",
    "version": 3
   },
   "file_extension": ".py",
   "mimetype": "text/x-python",
   "name": "python",
   "nbconvert_exporter": "python",
   "pygments_lexer": "ipython3",
   "version": "3.11.7"
  }
 },
 "nbformat": 4,
 "nbformat_minor": 5
}
