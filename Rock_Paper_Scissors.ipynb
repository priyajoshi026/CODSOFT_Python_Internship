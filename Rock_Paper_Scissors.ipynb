{
 "cells": [
  {
   "cell_type": "code",
   "execution_count": null,
   "id": "004673be-3fc6-4b74-bb34-f0af524ccea5",
   "metadata": {},
   "outputs": [],
   "source": [
    "import random\n",
    "us=0\n",
    "cs=0\n",
    "ch=1\n",
    "RPS={1:\"Rock\",\n",
    "    2:\"Paper\",\n",
    "    3:\"Scissors\"}\n",
    "while ch==1:\n",
    "    print(\"--Rock-Paper-Scissors Game--\")\n",
    "    print(\"1. Rock\")\n",
    "    print(\"2. Paper\")\n",
    "    print(\"3. Scissors\")\n",
    "    U=int(input(\"Enter your choice\"))\n",
    "    C=random.choice([1,2,3])\n",
    "    print(\"YOUR CHOICE:\",RPS[U],\"  |  \",\"COMPUTER CHOICE:\",RPS[C])\n",
    "    if ((U==1 and C==3) or (U==2 and C==1) or (U==3 and C==2)):\n",
    "        us+=1\n",
    "        print(\"You won this round\")\n",
    "    elif ((C==1 and U==3) or (C==2 and U==1) or (C==3 and U==2)):\n",
    "        cs+=1\n",
    "        print(\"You lost this round\")\n",
    "    elif ((C==1 and U==1) or (C==2 and U==2) or (C==3 and U==3)):\n",
    "        print(\"Draw\")\n",
    "    ch=int(input(\"Continue(1) OR Exit(0)\"))\n",
    "print(\"Final Result:\")\n",
    "print(\"Your Score:\",us)\n",
    "print(\"Computer Score:\",cs)\n",
    "if(us>cs):\n",
    "    print(\"YOU WON :)\")\n",
    "elif(us==cs):\n",
    "    print(\"DRAW\")\n",
    "else:\n",
    "    print(\"YOU lOST :(\")    "
   ]
  }
 ],
 "metadata": {
  "kernelspec": {
   "display_name": "Python 3 (ipykernel)",
   "language": "python",
   "name": "python3"
  },
  "language_info": {
   "codemirror_mode": {
    "name": "ipython",
    "version": 3
   },
   "file_extension": ".py",
   "mimetype": "text/x-python",
   "name": "python",
   "nbconvert_exporter": "python",
   "pygments_lexer": "ipython3",
   "version": "3.11.7"
  }
 },
 "nbformat": 4,
 "nbformat_minor": 5
}
